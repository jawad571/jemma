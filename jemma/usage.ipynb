{
 "cells": [
  {
   "cell_type": "code",
   "execution_count": null,
   "metadata": {},
   "outputs": [],
   "source": [
    "import jemma_utils as ju\n",
    "from enum import Enum\n",
    "import pandas as pd\n",
    "\n",
    "class Metrics(Enum):\n",
    "\tNUMBER_OF_CLASSES_IN_PROJECT=\"number_of_classes_in_project\"\n",
    "\tNUMBER_OF_PARAMETERS=\"number_of_parameters\"\n",
    "\tNUMBER_OF_METHODS=\"number_of_methods\"\n",
    "\n",
    "method_parameters = \"./jemma_datasets/properties/Jemma_Properties_Methods_NMPR.csv\"\n",
    "method_parameters_df = pd.read_csv(method_parameters)\n",
    "\n",
    "classes = \"./jemma_datasets/metadata/Jemma_Metadata_Classes.csv\"\n",
    "classes_df = pd.read_csv(classes)\n",
    "classes_counts = classes_df.value_counts(\"project_id\")\n",
    "\n",
    "methods = \"./jemma_datasets/metadata/Jemma_Metadata_Methods.csv\"\n",
    "methods_df = pd.read_csv(methods)\n",
    "methods_counts = methods_df.value_counts(\"project_id\")\n",
    "\n",
    "projects = \"./jemma_datasets/metadata/Jemma_Metadata_Projects.csv\"\n",
    "projects_df = pd.read_csv(projects)\n"
   ]
  },
  {
   "cell_type": "code",
   "execution_count": null,
   "metadata": {},
   "outputs": [],
   "source": [
    "method_parameters_merged = pd.merge(methods_df, method_parameters_df, on='method_id', how='inner')"
   ]
  },
  {
   "cell_type": "code",
   "execution_count": null,
   "metadata": {},
   "outputs": [],
   "source": [
    "method_parameters_merged['num_parameters'] = pd.to_numeric(method_parameters_merged['num_parameters'], errors='coerce')\n",
    "method_parameters_merged_sum = method_parameters_merged.groupby(\"project_id\")[\"num_parameters\"].sum()"
   ]
  },
  {
   "cell_type": "code",
   "execution_count": null,
   "metadata": {},
   "outputs": [],
   "source": [
    "\n",
    "def extract_metrics_from_project(project_id):\n",
    "\tmetrics = {\n",
    "\t\t\"project_id\": project_id,\n",
    "\t\tMetrics.NUMBER_OF_CLASSES_IN_PROJECT.value: classes_counts[project_id] if project_id in classes_counts else -1,\n",
    "\t\tMetrics.NUMBER_OF_METHODS.value: methods_counts[project_id] if project_id in methods_counts else -1,\n",
    "\t\tMetrics.NUMBER_OF_PARAMETERS.value: method_parameters_merged_sum[project_id] if project_id in method_parameters_merged_sum else -1\n",
    "\t}\t\n",
    "\treturn metrics\n",
    "\n",
    "\n",
    "\n",
    "columns = [\n",
    "\t\"project_id\",\n",
    "\tMetrics.NUMBER_OF_CLASSES_IN_PROJECT.value,\n",
    "\tMetrics.NUMBER_OF_METHODS.value,\n",
    "\tMetrics.NUMBER_OF_PARAMETERS.value\n",
    "]\n",
    "rows = []\n",
    "for project_id in projects_df['project_id']:\n",
    "\tprint(f'Extracting insights for project {project_id}')\n",
    "\tmetrics = extract_metrics_from_project(project_id)\n",
    "\trows.append([\n",
    "\t\tmetrics[\"project_id\"],\n",
    "\t\tmetrics[Metrics.NUMBER_OF_CLASSES_IN_PROJECT.value],\n",
    "\t\tmetrics[Metrics.NUMBER_OF_METHODS.value],\n",
    "\t\tmetrics[Metrics.NUMBER_OF_PARAMETERS.value]\n",
    "    ])\n",
    "\n",
    "consolidated_metrics_df = pd.DataFrame(rows, columns=columns)\n",
    "consolidated_metrics_df.to_csv(\"50kc_insights.csv\")\n",
    "print(consolidated_metrics_df)\n"
   ]
  },
  {
   "cell_type": "code",
   "execution_count": null,
   "metadata": {},
   "outputs": [],
   "source": []
  }
 ],
 "metadata": {
  "kernelspec": {
   "display_name": "env",
   "language": "python",
   "name": "python3"
  },
  "language_info": {
   "codemirror_mode": {
    "name": "ipython",
    "version": 3
   },
   "file_extension": ".py",
   "mimetype": "text/x-python",
   "name": "python",
   "nbconvert_exporter": "python",
   "pygments_lexer": "ipython3",
   "version": "3.8.10"
  }
 },
 "nbformat": 4,
 "nbformat_minor": 2
}
